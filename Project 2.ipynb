{
 "cells": [
  {
   "cell_type": "markdown",
   "metadata": {
    "colab_type": "text",
    "id": "xAh0-GxK9iDs"
   },
   "source": [
    "**Name**: Brandon Loptman\n",
    "\n",
    "**Total Score**: 20/20\n",
    "\n",
    "Code Tests:\n",
    "\n",
    "Completed Tests: 3/3 \n",
    "\n",
    "Tests Explained: 2/2\n",
    "\n",
    "Application to Physical Systems Modeling:\n",
    "8/8\n",
    "\n",
    "General:\n",
    "\n",
    "Run without problems: 1/1\n",
    "\n",
    "Correct structure: 1/1\n",
    "\n",
    "Logical flow: 1/1\n",
    "\n",
    "Good graphical representaions: 3/3\n",
    "\n",
    "Graphs have axes, labels, ticks, titles, etc.: 1/1 \n",
    "\n",
    "**Comments**:\n",
    "\n",
    "\n",
    "\n",
    "**Description**:\n",
    "\n",
    "Code Tests\n",
    "\n",
    "(3 pts) If code tests are suggested, all such tests are completed.  If code tests aren’t suggested, student has articulated their own code tests and executed those tests to show that code is working properly in at least some small number of obvious cases.  The more robust the code tests are, the better.\n",
    "\n",
    "(2 pts) All code tests are explained in complete sentences in text cells (along with any relevant mathematics).  There is a reasonable amount of explanation of how one knows that the code tests have been passed.\n",
    "\n",
    "Application of Code to Physical Systems Modeling\n",
    "\n",
    "(8 pts) Notebook contains a mixture of explanation text in complete sentences (with math where appropriate) and graphs/other visual representations illustrating how the computer model exhibits the relevant phenomena predicted by the mathematical model of the system.  All prompts have been answered.\n",
    "\n",
    "General\n",
    "\n",
    "(1 pts) The whole notebook can be re-started and re-run without halting due to any coding errors.\n",
    "\n",
    "(1 pts) The notebook has the correct general structure (code tests placed in the beginning and application of code to analysis of relevant physical systems after).\n",
    "\n",
    "(1 pts) Flow of notebook is logical, clear, and concise.\n",
    "\n",
    "(3 pts) Graphical/visual representations are used to concisely illustrate results of code tests and simulations.\n",
    "\n",
    "(1 pts) All graphs with axes have labels on axes with units and tick marks where appropriate.\n"
   ]
  },
  {
   "cell_type": "markdown",
   "metadata": {
    "colab_type": "text",
    "id": "xmdAqukoGRtd"
   },
   "source": [
    "# Project 2: Numerical Linear Algebra and Quantum Mechanics"
   ]
  },
  {
   "cell_type": "code",
   "execution_count": null,
   "metadata": {
    "colab": {},
    "colab_type": "code",
    "id": "70K0jwa0wfvt"
   },
   "outputs": [],
   "source": [
    "import numpy as np\n",
    "from scipy.stats import unitary_group\n",
    "from scipy.special import factorial\n",
    "import matplotlib.pyplot as plt\n",
    "plt.style.use(\"ggplot\")"
   ]
  },
  {
   "cell_type": "code",
   "execution_count": null,
   "metadata": {
    "colab": {},
    "colab_type": "code",
    "id": "4IkMRMjXswnj"
   },
   "outputs": [],
   "source": [
    "def jacobi_rotation(A,j,k):\n",
    "  \"\"\" Computes the Jacobi rotation matrix J for the j,kth and k,jth entry of A. \n",
    "\n",
    "  Args:\n",
    "    A (ndarray): Real n x n symetric matrix\n",
    "    j (int): Index of row of A \n",
    "    k (int): Index of colum of A \n",
    "\n",
    "  Returns: \n",
    "    A_transformed (ndarray): Real n x n symetric matrix thats j,kth and k,jth entries are zero. Similar to A\n",
    "    J (ndarray): Real n x n rotation matrix that transforms A into A_transform via a similarity transformation\n",
    "  \"\"\"\n",
    "  if A[j,k] != 0:\n",
    "    tau = (A[k,k] - A[j,j])/(2*A[j,k])\n",
    "    if tau >= 0:\n",
    "      t = 1/(tau + np.sqrt(1 + (tau**2)))\n",
    "    else:\n",
    "      t = 1/(tau - np.sqrt(1 + (tau**2)))\n",
    "    c = 1/np.sqrt(1 + (t**2))\n",
    "    s = t*c\n",
    "  else:\n",
    "    c = 1\n",
    "    s = 0\n",
    "  dim = np.shape(A)[0]\n",
    "  J = np.identity(dim)\n",
    "  J[j,j] = c\n",
    "  J[j,k] = s\n",
    "  J[k,j] = -s\n",
    "  J[k,k] = c\n",
    "\n",
    "  AJ = np.matmul(A,J)\n",
    "  J_t = np.transpose(J)\n",
    "  A_transformed = np.matmul(J_t,AJ)\n",
    "  return A_transformed, J\n",
    "\n",
    "def off(A):\n",
    "  \"\"\" Computes the function off(A) (as definded in the assignment instructions) for A\n",
    "\n",
    "  Args:\n",
    "    A (ndarray): A real matrix of any dimension n x m \n",
    "\n",
    "  Returns:\n",
    "    off (float): Value of the function off(A)\n",
    "  \"\"\"\n",
    "  sum = 0\n",
    "  for i in range(np.shape(A)[0]):\n",
    "    for j in range(np.shape(A)[0]):\n",
    "      if i != j:\n",
    "        sum += A[i,j]**2\n",
    "  off = np.sqrt(sum)\n",
    "  return off\n",
    "\n",
    "def real_eigen(A,tolerance):\n",
    "  \"\"\"Computes the eigenvalues and eigenvectors of A\n",
    "\n",
    "  Args:\n",
    "    A (ndarray): Real n x n symetric matrix\n",
    "    tolerance (float): the relative precison \n",
    "\n",
    "  Returns:\n",
    "    d (ndarray): Numpy array of eigenvalues of A\n",
    "    R (ndarray): n x n orthogonal matrix of the eigenvectors of A where the eigenvector and its correspoding eigenvalue share the same column index\n",
    "  \"\"\"\n",
    "  dim = np.shape(A)[0]\n",
    "  R = np.identity(dim)\n",
    "  delta = tolerance*np.linalg.norm(A)\n",
    "  \n",
    "  while(off(A) > delta):\n",
    "    \n",
    "    for p in range(dim-1):\n",
    "      for q in range(p+1,dim):\n",
    "        \n",
    "        A, J = jacobi_rotation(A,p,q)\n",
    "        R = np.matmul(R,J)\n",
    "  \n",
    "  d = A.diagonal()\n",
    "  \n",
    "  return d,R\n",
    "\n",
    "def complex_eigen(H,tolerance):\n",
    "  \"\"\"Computes the eigenvalues and eigenvectors of H\n",
    "\n",
    "  Args:\n",
    "    H (ndarray): n x n Hermitian matrix\n",
    "    tolerance (float): the relative precison \n",
    "  \n",
    "  Returns:\n",
    "    dd_new (ndarray): Numpy array of the eigenvalues of H\n",
    "    U (ndarray): n x n unitary matrix of the eigenvectors of H where the eigenvector and it's corresponding eigenvalue share the same column index\n",
    "  \"\"\"\n",
    "  dim = np.shape(H)[0]\n",
    "  #print(dim)\n",
    "  \n",
    "  S = np.real(H)\n",
    "  A = np.imag(H)\n",
    "  \n",
    "  B = np.block([[S,-A],[A,S]])\n",
    "  \n",
    "  #print(S)\n",
    "  #print(A)\n",
    "  #print(B)\n",
    "  \n",
    "  dd,R = real_eigen(B,tolerance)\n",
    "  #print(dd)\n",
    "  #print(R)\n",
    "  #print(dd)\n",
    "  #print(R)\n",
    "  #print(\" \")\n",
    "  \n",
    "  #dd = np.sort(dd)\n",
    "  #d = dd[::2]\n",
    "\n",
    "  dd_indices = np.argsort(dd)\n",
    "  dd_indices = dd_indices[::2]\n",
    "\n",
    "  dd_new = np.zeros(dim)\n",
    "  R_new = np.zeros((2*dim,dim))\n",
    "\n",
    "  for i in range(dim):\n",
    "    dd_new[i] = dd[dd_indices[i]]\n",
    "    R_new[:,i] = R[:,dd_indices[i]]\n",
    "    #print(R_new)\n",
    "\n",
    "  #R = R[:,::2]\n",
    "  #print(R)\n",
    "  #print(\" \")\n",
    "  \n",
    "  u_list = R_new[:dim,:]\n",
    "  v_list = R_new[dim:,:]\n",
    "  \n",
    "  #print(\"u's:\\n\", u_list)\n",
    "  #print(\" \")\n",
    "  #print(\"v's:\\n\", v_list)\n",
    "  #print(\" \")\n",
    "  \n",
    "  U = u_list + v_list*1j\n",
    "  #print(R_prime)\n",
    "  \n",
    "  return dd_new,U\n",
    "\n",
    "def hermitian_eigensystem(H,tolerance):\n",
    "  \"\"\"Returns the eigenvalues and eigenvectors of H\n",
    "\n",
    "  Args:\n",
    "    H (ndarray): n x n hermitian matrix\n",
    "    tolerance (float): the relative precison \n",
    "\n",
    "  Returns:\n",
    "    d (ndarray): Numpy array of the eigenvalues of H\n",
    "    U (ndarray): n x n unitary matrix of the eigenvectors of H where the eigenvector and it's corresponding eigenvalue share the same column index (ndarray)\n",
    "  \"\"\"\n",
    "  d,U = complex_eigen(H,tolerance)\n",
    "  return d, U \n",
    "\n",
    "def H_perturbed(d,lmbda):\n",
    "  \"\"\"Returns the Hamiltonian for the anharmonic oscillator\n",
    "\n",
    "  Args:\n",
    "    d (int): dimension of the Hamiltonian\n",
    "    lmbda (float): value of the constant lambda for the anharmonoc oscillator\n",
    "\n",
    "  Returns:\n",
    "    H (ndarray): d x d Hamiltonian matrix repersentation for the anharmonic oscillator \n",
    "  \"\"\"\n",
    "  dim = d\n",
    "\n",
    "  index = np.arange(dim)\n",
    "  H0 = np.zeros((dim,dim))\n",
    "  H0[index,index] = (index + .5)\n",
    "\n",
    "  #print(H0)\n",
    "\n",
    "  x4 = np.zeros((dim,dim))\n",
    "\n",
    "  for n in range(dim):\n",
    "    for m in range(dim):\n",
    "      if(n == m):\n",
    "        x4_term1 = (6*n**2 + 6*n + 3) * .25\n",
    "        x4[n,m] = x4_term1\n",
    "      if(n == m-2):\n",
    "        x4_term2 = np.sqrt((n+1)*(n+2))*(n + 3/2)\n",
    "        x4[n,m] = x4_term2\n",
    "      if(n == m+2):\n",
    "        x4_term3 = np.sqrt((n-1)*n)*(n - .5)\n",
    "        x4[n,m] = x4_term3\n",
    "      if(n == m-4):\n",
    "        x4_term4 = np.sqrt((n+1)*(n+2)*(n+3)*(n+4)) * .25\n",
    "        x4[n,m] = x4_term4\n",
    "      if(n == m +4):\n",
    "        x4_term5 = np.sqrt((n-3)*(n-2)*(n-1)*n) * .25\n",
    "        x4[n,m] = x4_term5\n",
    "        \n",
    "  #print(x4)\n",
    "\n",
    "  h_lambda = lmbda\n",
    "  H = H0 + h_lambda*x4\n",
    "\n",
    "  return H\n",
    "\n",
    "def psi(v):\n",
    "  \"\"\"Returns the values of the wavefunction for the anharmonic oscillator for a specified state\n",
    "\n",
    "  Args:\n",
    "    v (ndarray): coefficents of the anharmonic oscillator state (aka the eigenvector corresponding to that state)\n",
    "\n",
    "  Returns:\n",
    "    innerFunction (function): function that returns the value of the wavefunction specified x values\n",
    "  \"\"\"\n",
    "  def innerFunction(x):\n",
    "    \"\"\"Returns the values of the wavefunction at specified x values\n",
    "\n",
    "    Args:\n",
    "      x (ndarray): Numpy array of x positions\n",
    "\n",
    "    Return:\n",
    "      psi (ndarray): Numpy array of the values of the wave function for the specified anharomic oscillator state\n",
    "    \"\"\"\n",
    "    coeffs = np.zeros(np.size(v))\n",
    "    for i in range(np.size(v)):\n",
    "      a = (2**i * factorial(i) * np.sqrt(np.pi))**-.5\n",
    "      coeffs[i] = a * np.real(v[i])\n",
    "\n",
    "    psi = np.polynomial.hermite.hermval(x,coeffs)\n",
    "    psi = np.exp((-x**2)/2)*psi\n",
    "    return psi\n",
    "  return innerFunction"
   ]
  },
  {
   "cell_type": "markdown",
   "metadata": {
    "colab_type": "text",
    "id": "C3y5j4ruz8a3"
   },
   "source": [
    "## Initial Testing"
   ]
  },
  {
   "cell_type": "markdown",
   "metadata": {
    "colab_type": "text",
    "id": "UFkdGpVdhm3n"
   },
   "source": [
    "To begin, let's test that these functions implemented above work properly for matrices of small dimensions. "
   ]
  },
  {
   "cell_type": "code",
   "execution_count": null,
   "metadata": {
    "colab": {
     "base_uri": "https://localhost:8080/",
     "height": 85
    },
    "colab_type": "code",
    "id": "DTqx-KQXf9fd",
    "outputId": "0dafa324-7342-4bd0-8d4d-305badd84c3b"
   },
   "outputs": [
    {
     "name": "stdout",
     "output_type": "stream",
     "text": [
      "[5 6]\n",
      "\n",
      "[[1. 0.]\n",
      " [0. 1.]]\n"
     ]
    }
   ],
   "source": [
    "A = np.array([[5,0],[0,6]])\n",
    "d, R = real_eigen(A,.01)\n",
    "\n",
    "print(d)\n",
    "print(\"\")\n",
    "print(R)"
   ]
  },
  {
   "cell_type": "code",
   "execution_count": null,
   "metadata": {
    "colab": {
     "base_uri": "https://localhost:8080/",
     "height": 102
    },
    "colab_type": "code",
    "id": "-gzMRpzugSFN",
    "outputId": "8e6ba853-a2bc-47aa-b7c6-ebacc89c78f4"
   },
   "outputs": [
    {
     "name": "stdout",
     "output_type": "stream",
     "text": [
      "[0. 5. 3.]\n",
      "\n",
      "[[ 0.89442719  0.4472136   0.        ]\n",
      " [-0.4472136   0.89442719  0.        ]\n",
      " [ 0.          0.          1.        ]]\n"
     ]
    }
   ],
   "source": [
    "B = np.array([[1,2,0],[2,4,0],[0,0,3]])\n",
    "\n",
    "d, R = real_eigen(B,.01)\n",
    "\n",
    "print(d)\n",
    "print(\"\")\n",
    "print(R)"
   ]
  },
  {
   "cell_type": "code",
   "execution_count": null,
   "metadata": {
    "colab": {
     "base_uri": "https://localhost:8080/",
     "height": 85
    },
    "colab_type": "code",
    "id": "R5-kpW3whWwb",
    "outputId": "96aa52dd-203e-49db-c415-9b378df21c31"
   },
   "outputs": [
    {
     "name": "stdout",
     "output_type": "stream",
     "text": [
      "[-1.73205081  1.73205081]\n",
      "\n",
      "[[-0.32254835-0.3275476j   0.20084772-0.86506377j]\n",
      " [-0.0068291 +0.88804758j  0.39015068-0.24311995j]]\n"
     ]
    }
   ],
   "source": [
    "C = np.array([[1,1-1j],[1+1j,-1]])\n",
    "\n",
    "d, R = hermitian_eigensystem(C,.01)\n",
    "\n",
    "print(d)\n",
    "print(\"\")\n",
    "print(R)"
   ]
  },
  {
   "cell_type": "markdown",
   "metadata": {
    "colab_type": "text",
    "id": "b9-z2Tugi6XZ"
   },
   "source": [
    "It is easy to verify the accuracy of the above results by hand or by using Mathematica's `Eigensystem` function."
   ]
  },
  {
   "cell_type": "markdown",
   "metadata": {
    "colab_type": "text",
    "id": "zwUacVXkF_le"
   },
   "source": [
    "## Code Tests\n",
    "\n"
   ]
  },
  {
   "cell_type": "markdown",
   "metadata": {
    "colab_type": "text",
    "id": "kASAs8W1QDDV"
   },
   "source": [
    "### Checking Eigenvalues"
   ]
  },
  {
   "cell_type": "markdown",
   "metadata": {
    "colab_type": "text",
    "id": "nvr6lq6DGlcX"
   },
   "source": [
    "* To begin, we want to check that the function `hermitian_eigensystem` indeed calculates the correct eigenvalues of a hermitian matrix given to it. To do this we can feed `hermitian_eigensystem` hermitian matricies with known eignevalues and verify the eigenvalues returned by the function match (so some precison) these known eigenvalues.  \n",
    "\n",
    "* How can we generate hermitian matricies with known eigenvalues? One way is to consider $n \\times n$ diagonal matricies. It is easy to see that the eigenvalues for such a matrix are just the entries along the main diagonal. Additionally, such a matrix is also hermitian. This is all great news, except for the fact that the matrix is already digonalized before we apply our numerical algorithm! Diagonalizing an already diagonal matrix can hardly be called a test.  \n",
    "\n",
    "* Is there a way to take the known eigenvalue property of a diagonal matrix $D$ and put it into a non-diagonal hermitian matrix $H$? Yes, there is! If we perform the similarity transform $U^{-1}DU = H$, where $U$ is a $n \\times n$ unitary matrix, then $H$ will have the same eigenvalues of $D$.\n",
    "\n",
    "* This works for two reasons. The first is that similar matricies share the same eigenvalues. We can proof this by looking at the characteristic polynomial of both sides and see that they are the same.\n",
    "\n",
    "  - **Proof**: Suppose that $A$, $B$ are $n \\times n$ matricies such that $S^{-1}AS = B$, where $S$ is an invertible matrix. Then we have:\n",
    "\n",
    "  $$\n",
    "  p_{B}(\\lambda) = det(B - \\lambda I) = det(S^{-1}AS - \\lambda I ) \\\\\n",
    "  = det(S^{-1}(A-\\lambda I)S) = det(S^{-1})det(A-\\lambda I)det(S) \\\\\n",
    "  = det(A-\\lambda I) = p_{A}(\\lambda) \n",
    "  $$\n",
    "  - Thus, $p_{B}(\\lambda) = p_{A}(\\lambda)$ so $A$ and $B$ have the same eigenvalues.\n",
    "\n",
    "* The other reason this works is because we can represent $H$ by a similarity transformation of $D$ via $U$.\n",
    "\n",
    "  - **Proof**: Suppose $H$ is a $n \\times n$ hermitian matrix. Then by the spectral theorem we know there exists a unitary matrix $U$ such that $U^{1}HU = D$, where $D$ is diagonal and real. Since $D$ is diagonal and real it too is hermitian. Then we have:\n",
    "\n",
    "  $$\n",
    "  U^{-1} H U = D \\\\\n",
    "  U U^{-1} H U U^{-1} = U D U^{-1} \\\\\n",
    "  H = U D U^{-1}\n",
    "  $$\n",
    "\n",
    "  - Call $U^{-1} = Q$. Then $Q^{-1} = U$ and we have:\n",
    "\n",
    "$$\n",
    "Q D Q^{-1} = H\n",
    "$$\n",
    "\n",
    "* Thus, we can represent $H$ by a similarity transform of $D$. Since we know the eigenvalues of $D$ and similar matricies have the same eigenvalues, we also know the eigenvalues of $H$.\n",
    "\n",
    "* If we use `hermitian_eigensystem` to find the eigenvalues of $H$ for instead of $D$ and check that they are the same as the diagonal entires of $D$ (to some precison) we can be reasonably sure our numerical algorithm is implemented correctly."
   ]
  },
  {
   "cell_type": "markdown",
   "metadata": {
    "colab_type": "text",
    "id": "m9pF6_ZYyWH8"
   },
   "source": [
    "#### The Actual Test\n",
    "* To test our algorithm we will transform random diagonal matracies from sizes $2 \\times 2$ to $30 \\times 30$ using random unitary matricies of the correct respective size. We will then use our algorithm to diagonalize the matrix and find the eigenvalues. These eigenvalues will then be compared (within some tolerance) to the values initally present along the diagonal (the exact eigenvalues) of the pre-transformed diagonal matrix."
   ]
  },
  {
   "cell_type": "code",
   "execution_count": null,
   "metadata": {
    "colab": {
     "base_uri": "https://localhost:8080/",
     "height": 918
    },
    "colab_type": "code",
    "id": "baz57HzJa-YG",
    "outputId": "048b8be0-0f87-45ff-8d29-5ad716c93bad"
   },
   "outputs": [
    {
     "name": "stdout",
     "output_type": "stream",
     "text": [
      "[ True  True]\n",
      "[ True  True  True]\n",
      "[ True  True  True  True]\n",
      "[ True  True  True  True  True]\n",
      "[ True  True  True  True  True  True]\n",
      "[ True  True  True  True  True  True  True]\n",
      "[ True  True  True  True  True  True  True  True]\n",
      "[ True  True  True  True  True  True  True  True  True]\n",
      "[ True  True  True  True  True  True  True  True  True  True]\n",
      "[ True  True  True  True  True  True  True  True  True  True  True]\n",
      "[ True  True  True  True  True  True  True  True  True  True  True  True]\n",
      "[ True  True  True  True  True  True  True  True  True  True  True  True\n",
      "  True]\n",
      "[ True  True  True  True  True  True  True  True  True  True  True  True\n",
      "  True  True]\n",
      "[ True  True  True  True  True  True  True  True  True  True  True  True\n",
      "  True  True  True]\n",
      "[ True  True  True  True  True  True  True  True  True  True  True  True\n",
      "  True  True  True  True]\n",
      "[ True  True  True  True  True  True  True  True  True  True  True  True\n",
      "  True  True  True  True  True]\n",
      "[ True  True  True  True  True  True  True  True  True  True  True  True\n",
      "  True  True  True  True  True  True]\n",
      "[ True  True  True  True  True  True  True  True  True  True  True  True\n",
      "  True  True  True  True  True  True  True]\n",
      "[ True  True  True  True  True  True  True  True  True  True  True  True\n",
      "  True  True  True  True  True  True  True  True]\n",
      "[ True  True  True  True  True  True  True  True  True  True  True  True\n",
      "  True  True  True  True  True  True  True  True  True]\n",
      "[ True  True  True  True  True  True  True  True  True  True  True  True\n",
      "  True  True  True  True  True  True  True  True  True  True]\n",
      "[ True  True  True  True  True  True  True  True  True  True  True  True\n",
      "  True  True  True  True  True  True  True  True  True  True  True]\n",
      "[ True  True  True  True  True  True  True  True  True  True  True  True\n",
      "  True  True  True  True  True  True  True  True  True  True  True  True]\n",
      "[ True  True  True  True  True  True  True  True  True  True  True  True\n",
      "  True  True  True  True  True  True  True  True  True  True  True  True\n",
      "  True]\n",
      "[ True  True  True  True  True  True  True  True  True  True  True  True\n",
      "  True  True  True  True  True  True  True  True  True  True  True  True\n",
      "  True  True]\n",
      "[ True  True  True  True  True  True  True  True  True  True  True  True\n",
      "  True  True  True  True  True  True  True  True  True  True  True  True\n",
      "  True  True  True]\n",
      "[ True  True  True  True  True  True  True  True  True  True  True  True\n",
      "  True  True  True  True  True  True  True  True  True  True  True  True\n",
      "  True  True  True  True]\n",
      "[ True  True  True  True  True  True  True  True  True  True  True  True\n",
      "  True  True  True  True  True  True  True  True  True  True  True  True\n",
      "  True  True  True  True  True]\n",
      "[ True  True  True  True  True  True  True  True  True  True  True  True\n",
      "  True  True  True  True  True  True  True  True  True  True  True  True\n",
      "  True  True  True  True  True  True]\n"
     ]
    }
   ],
   "source": [
    "for i in range(2,31):\n",
    "  diag = np.random.rand(i)\n",
    "  D = np.diag(diag)\n",
    "\n",
    "  U = unitary_group.rvs(np.size(diag))\n",
    "  U_inverse = np.linalg.inv(U)\n",
    "\n",
    "  DU = np.matmul(D,U)\n",
    "  UDU = np.matmul(U_inverse,DU)\n",
    "\n",
    "  d, R = hermitian_eigensystem(UDU,.0001)\n",
    "\n",
    "  #print(np.sort(diag))\n",
    "  #print(d)\n",
    "  #print(R)\n",
    "\n",
    "  close = np.isclose(d,np.sort(diag))\n",
    "  print(close)"
   ]
  },
  {
   "cell_type": "markdown",
   "metadata": {
    "colab_type": "text",
    "id": "8QRrMr3Vz8f_"
   },
   "source": [
    "* From the above code block we can see that our test was a success! \n",
    "\n",
    "* For all matrices tested the eigenvalues calculated using our numerical algorithm were \"close\" to the that of the exact values eigenvalues of the matrices. What we mean when we say the eigenvalues were \"close\" is that they were close to the exact eigenvalues using the defintion of closeness as defined by the numpy function `isclose`."
   ]
  },
  {
   "cell_type": "markdown",
   "metadata": {
    "colab_type": "text",
    "id": "VId76_ye12ns"
   },
   "source": [
    "### Checking Eigenvectors\n",
    "* In general, it is difficult to generate random matricies with known eigenvectors. For this reason we cannot directly test the accuracy of the eigenvectors found by our algorithm, but the eigenvectors of hermitian matricies have a particular property we can more easily test.\n",
    "\n",
    "* By the spectral theorem, if $H$ is hermitian then the eigenvectors corresponding to distinct eigenvalues are be orthogonal. \n",
    "\n",
    "* Thus, another test we can perform is to check that this above statement is valid for the eigenvectors found by our algorithm.\n",
    "\n",
    "* Suppose that $a$ and $b$ are two column vectors of dimension $n$. Then it is easily found that $\\vec{a}$ and $\\vec{b}$ are orthogonal if and only if $\\vec{a} \\cdot \\vec{b} = 0$.\n",
    "\n",
    "* So we can check the orthorgonality of two eignenvectors by taking their dot product (using the numpy function `vdot` since in general the eigenvectors might be complex) and checking how close to zero the result is."
   ]
  },
  {
   "cell_type": "markdown",
   "metadata": {
    "colab_type": "text",
    "id": "X0LUSpPGRTsW"
   },
   "source": [
    "* Since there will be many pairs of eigenvectors to check, we will only perform this test for a $10 \\times 10$ matrix."
   ]
  },
  {
   "cell_type": "code",
   "execution_count": null,
   "metadata": {
    "colab": {
     "base_uri": "https://localhost:8080/",
     "height": 187
    },
    "colab_type": "code",
    "id": "d4HpuH_y2fba",
    "outputId": "79539789-2485-472f-c251-869eb4015c66"
   },
   "outputs": [
    {
     "name": "stdout",
     "output_type": "stream",
     "text": [
      "[[False  True  True  True  True  True  True  True  True  True]\n",
      " [ True False  True  True  True  True  True  True  True  True]\n",
      " [ True  True False  True  True  True  True  True  True  True]\n",
      " [ True  True  True False  True  True  True  True  True  True]\n",
      " [ True  True  True  True False  True  True  True  True  True]\n",
      " [ True  True  True  True  True False  True  True  True  True]\n",
      " [ True  True  True  True  True  True False  True  True  True]\n",
      " [ True  True  True  True  True  True  True False  True  True]\n",
      " [ True  True  True  True  True  True  True  True False  True]\n",
      " [ True  True  True  True  True  True  True  True  True False]]\n"
     ]
    }
   ],
   "source": [
    "diag = np.random.rand(10)\n",
    "D = np.diag(diag)\n",
    "\n",
    "#print(diag)\n",
    "\n",
    "U = unitary_group.rvs(np.size(diag))\n",
    "#print(U)\n",
    "\n",
    "U_inverse = np.linalg.inv(U)\n",
    "#print(U_inverse)\n",
    "\n",
    "DU = np.matmul(D,U)\n",
    "UDU = np.matmul(U_inverse,DU)\n",
    "#print(UDU)\n",
    "\n",
    "d, R = hermitian_eigensystem(UDU,.0001)\n",
    "\n",
    "#print (R)\n",
    "\n",
    "dot_products = np.ones(np.shape(D),dtype=complex)\n",
    "zeroes = np.zeros(np.shape(D),dtype=complex)\n",
    "\n",
    "for i in range(np.size(diag)):\n",
    "  for j in range(np.size(diag)):\n",
    "    if i != j:\n",
    "      dot_products[i,j] = np.vdot(R[:,i],R[:,j])\n",
    "      #print(dot_products[i,j])\n",
    "      \n",
    "close = np.isclose(dot_products,zeroes,atol=10e-5)\n",
    "print(close)"
   ]
  },
  {
   "cell_type": "markdown",
   "metadata": {
    "colab_type": "text",
    "id": "wxoknYe-RpS2"
   },
   "source": [
    "* This test was a success. This is evident by the fact all of the dot products between each pair of eigenvectors is \"close\" (as defined by the `isclose` function again) to zero. In the above matrix the diagonal elements are not close to zero because for those pairs $i = j$, so the dot product is actually the eigenvector with itself, which must be nonzero since the zero vector cannot be an eigenvector."
   ]
  },
  {
   "cell_type": "markdown",
   "metadata": {
    "colab_type": "text",
    "id": "fXe1cA51KlN0"
   },
   "source": [
    "## Analysis of the Quantum Harmonic Oscillator "
   ]
  },
  {
   "cell_type": "markdown",
   "metadata": {
    "colab_type": "text",
    "id": "fg7W6Lv1DTLw"
   },
   "source": [
    "1.) Before we analyze the physical system, let is show that the operators $\\hat{x}^{2}$ and $\\hat{x}^{4}$ have the matrix elements given in the assignment instructions."
   ]
  },
  {
   "cell_type": "markdown",
   "metadata": {
    "colab_type": "text",
    "id": "ud3MC_JeD2tB"
   },
   "source": [
    "To begin, notice that we can represent the operator $\\hat{x}$ in terms of $\\hat{a}_{+}$ and $\\hat{a}_{-}$, the raising and lowering operator for the harmonic oscillator, as follows:  \n",
    "\n",
    "$$\n",
    "  \\hat{x} = \\tfrac{\\sqrt{2}}{2}(\\hat{a}_{+} + \\hat{a}_{-})\n",
    "$$\n",
    "\n",
    "Using the above we can get an expression for $\\hat{x}^{2}$. Note that the raising and lowering operators do note commute!\n",
    "\n",
    "$$\n",
    "  \\hat{x}^{2} = \\tfrac{1}{2}(\\hat{a}_{+}\\hat{a}_{+} + \\hat{a}_{+}\\hat{a}_{-} + \\hat{a}_{-}\\hat{a}_{+} + \\hat{a}_{-}\\hat{a}_{-})\n",
    "$$\n",
    "\n",
    "Now, suppose that $|n\\rangle$ and $|m\\rangle$ are basis elements for the quantum harmonic oscillator (so $\\langle n|m \\rangle = 0$ for $n \\neq m$). Then we have:\n",
    "\n",
    "$$\n",
    "  \\langle n|\\hat{x}^{2}|m \\rangle = \\tfrac{1}{2} \\langle n|\\hat{a}_{+}\\hat{a}_{+} + \\hat{a}_{+}\\hat{a}_{-} + \\hat{a}_{-}\\hat{a}_{+} + \\hat{a}_{-}\\hat{a}_{-}|m \\rangle\n",
    "$$\n",
    "\n",
    "$$\n",
    "  = \\tfrac{1}{2} (\\langle n|\\hat{a}_{+}\\hat{a}_{+}|m \\rangle + \\langle n|\\hat{a}_{+}\\hat{a}_{-}|m \\rangle + \\langle n|\\hat{a}_{-}\\hat{a}_{+}|m \\rangle + \\langle n|\\hat{a}_{-}\\hat{a}_{-}|m \\rangle)\n",
    "$$\n",
    "\n",
    "Let's find each term individually and then add them all up at the end. From left to right we have:\n",
    "\n",
    "$$ \n",
    "  \\langle n|\\hat{a}_{+}\\hat{a}_{+}|m \\rangle = \\sqrt{m+1} \\langle n|\\hat{a}_{+}|m+1\\rangle = \\sqrt{(m+1)(m+2)}\\langle n|m+2\\rangle = \\sqrt{(m+1)(m+2)}\\delta_{n,m+2}\n",
    "$$\n",
    "\n",
    "$$\n",
    "  \\langle n|\\hat{a}_{+}\\hat{a}_{-}|m \\rangle = \\sqrt{m} \\langle n|\\hat{a}_{+}|m-1 \\rangle = m \\langle n|m \\rangle = m \\delta_{n,m}\n",
    "$$\n",
    "\n",
    "$$\n",
    "  \\langle n|\\hat{a}_{-}\\hat{a}_{+}|m \\rangle = \\sqrt{m+1} \\langle n|\\hat{a}_{-}|m+1 \\rangle = (m+1) \\langle n|m \\rangle = (m+1) \\delta_{n,m}\n",
    "$$\n",
    " \n",
    "$$ \n",
    "  \\langle n|\\hat{a}_{-}\\hat{a}_{-}|m \\rangle = \\sqrt{m} \\langle n|\\hat{a}_{-}|m-1\\rangle = \\sqrt{m(m-1)}\\langle n|m-2\\rangle = \\sqrt{m(m-1)}\\delta_{n,m-2}\n",
    "$$\n",
    "\n",
    "Thus, adding everything together and performing a change of variables from $m$ to $n$ we find:\n",
    "\n",
    "$$  \\langle n|\\hat{x}^{2}|m \\rangle = (n + \\tfrac{1}{2})\\delta_{n,m} + \\tfrac{1}{2} \\sqrt{(n+1)(n+2)}\\delta_{n,m-2}+\\tfrac{1}{2}\\sqrt{m(m-1)}\\delta_{n,m+2}\n",
    "$$\n",
    "\n",
    "This is the same as what we are given in the assignment so we have shown that this is the correct expression for the matrix elements of the $\\hat{x}^{2}$ operator.\n"
   ]
  },
  {
   "cell_type": "markdown",
   "metadata": {
    "colab_type": "text",
    "id": "eUkTyA80TygC"
   },
   "source": [
    "Now, let's do the same thing for the $\\hat{x}^{4}$ operator. Again, let's begin by expanding $\\hat{x}^{4}$ using the expression for $\\hat{x}$ in terms of $\\hat{a}_{+}$ and $\\hat{a}_{-}$. Doing so will give us an expression with 16 terms! Our expression for $\\hat{x}^{4}$ in terms of $\\hat{a}_{+}$ and $\\hat{a}_{-}$ is:\n",
    "\n",
    "$$\n",
    "  \\hat{x}^{4} = \\tfrac{1}{4}\n",
    "  (\n",
    "    \\hat{a}_{+}\\hat{a}_{+}\\hat{a}_{+}\\hat{a}_{+} \n",
    "  + \\hat{a}_{+}\\hat{a}_{+}\\hat{a}_{+}\\hat{a}_{-} \n",
    "  + \\hat{a}_{+}\\hat{a}_{+}\\hat{a}_{-}\\hat{a}_{+} \n",
    "  + \\hat{a}_{+}\\hat{a}_{+}\\hat{a}_{-}\\hat{a}_{-} \n",
    "  + \\hat{a}_{+}\\hat{a}_{-}\\hat{a}_{+}\\hat{a}_{+} \n",
    "  + \\hat{a}_{+}\\hat{a}_{-}\\hat{a}_{+}\\hat{a}_{-} \n",
    "  + \\hat{a}_{+}\\hat{a}_{-}\\hat{a}_{-}\\hat{a}_{+} \n",
    "  + \\hat{a}_{+}\\hat{a}_{-}\\hat{a}_{-}\\hat{a}_{-} \n",
    "  + \\hat{a}_{-}\\hat{a}_{+}\\hat{a}_{+}\\hat{a}_{+} \n",
    "  + \\hat{a}_{-}\\hat{a}_{+}\\hat{a}_{+}\\hat{a}_{-} \n",
    "  + \\hat{a}_{-}\\hat{a}_{+}\\hat{a}_{-}\\hat{a}_{+} \n",
    "  + \\hat{a}_{-}\\hat{a}_{+}\\hat{a}_{-}\\hat{a}_{-} \n",
    "  + \\hat{a}_{-}\\hat{a}_{-}\\hat{a}_{+}\\hat{a}_{+} \n",
    "  + \\hat{a}_{-}\\hat{a}_{-}\\hat{a}_{+}\\hat{a}_{-} \n",
    "  + \\hat{a}_{-}\\hat{a}_{-}\\hat{a}_{-}\\hat{a}_{+} \n",
    "  + \\hat{a}_{-}\\hat{a}_{-}\\hat{a}_{-}\\hat{a}_{-} \n",
    "  )\n",
    "$$\n",
    "\n",
    "Thus, the matrix elements of $\\hat{x}^{4}$ are:  \n",
    "\n",
    "$$\n",
    "  \\langle n|\\hat{x}^{4}|m \\rangle = \n",
    "  \\tfrac{1}{4}\n",
    "  \\langle n|\n",
    "  \\hat{a}_{+}\\hat{a}_{+}\\hat{a}_{+}\\hat{a}_{+} \n",
    "  + \\hat{a}_{+}\\hat{a}_{+}\\hat{a}_{+}\\hat{a}_{-} \n",
    "  + \\hat{a}_{+}\\hat{a}_{+}\\hat{a}_{-}\\hat{a}_{+} \n",
    "  + \\hat{a}_{+}\\hat{a}_{+}\\hat{a}_{-}\\hat{a}_{-} \n",
    "  + \\hat{a}_{+}\\hat{a}_{-}\\hat{a}_{+}\\hat{a}_{+} \n",
    "  + \\hat{a}_{+}\\hat{a}_{-}\\hat{a}_{+}\\hat{a}_{-} \n",
    "  + \\hat{a}_{+}\\hat{a}_{-}\\hat{a}_{-}\\hat{a}_{+} \n",
    "  + \\hat{a}_{+}\\hat{a}_{-}\\hat{a}_{-}\\hat{a}_{-} \n",
    "  + \\hat{a}_{-}\\hat{a}_{+}\\hat{a}_{+}\\hat{a}_{+} \n",
    "  + \\hat{a}_{-}\\hat{a}_{+}\\hat{a}_{+}\\hat{a}_{-} \n",
    "  + \\hat{a}_{-}\\hat{a}_{+}\\hat{a}_{-}\\hat{a}_{+} \n",
    "  + \\hat{a}_{-}\\hat{a}_{+}\\hat{a}_{-}\\hat{a}_{-} \n",
    "  + \\hat{a}_{-}\\hat{a}_{-}\\hat{a}_{+}\\hat{a}_{+} \n",
    "  + \\hat{a}_{-}\\hat{a}_{-}\\hat{a}_{+}\\hat{a}_{-} \n",
    "  + \\hat{a}_{-}\\hat{a}_{-}\\hat{a}_{-}\\hat{a}_{+} \n",
    "  + \\hat{a}_{-}\\hat{a}_{-}\\hat{a}_{-}\\hat{a}_{-}  \n",
    "  | m \\rangle\n",
    "$$\n",
    "\n",
    "If we find each term in the same way as we did for the $\\hat{x}^{2}$ operator (that is by repeatedly applying the raising and lowering operators to the state on the right) and add them all up we will eventually find:\n",
    " \n",
    " $$\n",
    " \\langle n|\\hat{x}^{4}|m \\rangle = \n",
    "  \\tfrac{1}{4}(6n^{2}+6n+3)\\delta_{n,m}\n",
    "  +\\sqrt{(n+1)(n+2)}(n+\\tfrac{3}{2})\\delta_{n,m-2}\n",
    "  +\\sqrt{(n-1)n}(n-\\tfrac{1}{2})\\delta_{n,m+2}\n",
    "  +\\tfrac{1}{4}\\sqrt{(n+1)(n+2)(n+3)(n+4)}\\delta_{n,m-4}\n",
    "  +\\tfrac{1}{4}\\sqrt{(n-3)(n-2)(n-1)n}\\delta_{n,m+4}\n",
    " $$\n",
    "\n",
    " which is the same expression that is given in the assignment."
   ]
  },
  {
   "cell_type": "markdown",
   "metadata": {
    "colab_type": "text",
    "id": "2hyuCnwVkWWu"
   },
   "source": [
    "2.) Now, we will approximately solve the anharmonic oscillator eigenvalue problem written in the unperturbed harmonic oscillator basis."
   ]
  },
  {
   "cell_type": "markdown",
   "metadata": {
    "colab_type": "text",
    "id": "BemTuW2E3mP4"
   },
   "source": [
    "We will solve the problem for the first four energy levels. Recall that the Hamiltonian for the anharmonic oscillator is $\\hat{H}_{\\lambda} = \\hat{H}_{0} + \\lambda \\hat{x}^{4}$, where $\\hat{H}_{0}$ is the Hamiltonian of the unpeturbed harmonic oscillator and $\\lambda$ is a nonzero real constant. Since we are interested in the first four energies (aka the first four eigenvalues of $\\hat{H}_{\\lambda}$ for a particular value of $\\lambda$) we will use a basis of size $N = 15$ to ensure convergence of our algorithm."
   ]
  },
  {
   "cell_type": "markdown",
   "metadata": {
    "colab_type": "text",
    "id": "HvGX0wnl55O0"
   },
   "source": [
    "Solving the eigenvalue problem for the anharmonic oscillator in the harmonic oscillator basis amounts to diagonalizing the $\\hat{H}_{\\lambda}$ for a particular value of $\\lambda$. This can be easily accomplished with the numerical diagonalization algorithm implemented above since $\\hat{H}_{\\lambda}$, like all operators in quantum mechanics is hermitian. As an illustration, the below code block solves the eigenvalue problem for the anaharmonic oscillator with $\\lambda = .5$ and uses a **tolerance** $=.01$ (this will be our default value of the tolerance unless otherwise stated)."
   ]
  },
  {
   "cell_type": "code",
   "execution_count": null,
   "metadata": {
    "colab": {
     "base_uri": "https://localhost:8080/",
     "height": 153
    },
    "colab_type": "code",
    "id": "F_3rM60jlzWp",
    "outputId": "d7ca6b6e-578b-4839-d136-bba2492ded32"
   },
   "outputs": [
    {
     "name": "stdout",
     "output_type": "stream",
     "text": [
      "The eigenvalues are: \n",
      " [0.69617781 2.32472226 4.32920995 6.5818773 ]\n",
      "\n",
      "The eigenvectors are: \n",
      " [[ 0.98375386+0.j  0.        +0.j  0.15309508+0.j  0.        +0.j]\n",
      " [ 0.        +0.j  0.92428878+0.j  0.        +0.j  0.31087984+0.j]\n",
      " [-0.17791431+0.j  0.        +0.j  0.79949372+0.j  0.        +0.j]\n",
      " [ 0.        +0.j -0.36554435+0.j  0.        +0.j  0.59467652+0.j]]\n"
     ]
    }
   ],
   "source": [
    "system_dim = 15\n",
    "lmbda = .5\n",
    "tolerance = .01\n",
    "\n",
    "H = H_perturbed(system_dim,lmbda)\n",
    "\n",
    "d, R = hermitian_eigensystem(H,tolerance)\n",
    "\n",
    "#print(\"The eigenvalues are: \\n\", d)\n",
    "#print(\"The eigenvectors are: \\n\", R)\n",
    "\n",
    "dim = 4\n",
    "evals = np.zeros(dim)\n",
    "evecs = np.zeros((dim,dim),dtype=complex)\n",
    "\n",
    "for i in range(dim):\n",
    "  evals[i] = d[i]\n",
    "  evecs[:,i] = R[0:dim,i]\n",
    "\n",
    "print(\"The eigenvalues are: \\n\", evals)\n",
    "print(\"\")\n",
    "print(\"The eigenvectors are: \\n\", evecs)"
   ]
  },
  {
   "cell_type": "markdown",
   "metadata": {
    "colab_type": "text",
    "id": "7Qjm7jKA9fqy"
   },
   "source": [
    "In the above output, the eigenvectors are the columns vectors of the matrix `evecs`."
   ]
  },
  {
   "cell_type": "markdown",
   "metadata": {
    "colab_type": "text",
    "id": "vB9TrWwR9vCt"
   },
   "source": [
    "3.) Next, we shall plot  $\\lambda$ against the energy levels $E_{n}(\\lambda)$ for $\\lambda \\in [0,1]$. This can be done easily by repeatedly diagonalizing $\\hat{H}_{\\lambda}$ for numerous values of $\\lambda$ in the given range. We will again use a basis size of $N = 15$ to ensure convergence of the values of the energies with our algorithm.  \n",
    "\n",
    "The code block below plots the first four energy levels for $n=100$ equally spaced values of $\\lambda \\in [0,1]$."
   ]
  },
  {
   "cell_type": "code",
   "execution_count": null,
   "metadata": {
    "colab": {
     "base_uri": "https://localhost:8080/",
     "height": 303
    },
    "colab_type": "code",
    "id": "sSGlD5LqIEgJ",
    "outputId": "f23e4e65-1142-47f3-9fd2-4024d4b9a7a8"
   },
   "outputs": [
    {
     "data": {
      "image/png": "[encoded data removed]",
      "text/plain": [
       "<Figure size 432x288 with 1 Axes>"
      ]
     },
     "metadata": {
      "tags": []
     },
     "output_type": "display_data"
    }
   ],
   "source": [
    "system_dim = 15\n",
    "dim = 4\n",
    "tolerance = .01\n",
    "\n",
    "n = 100\n",
    "lambda_list = np.linspace(0,1,n)\n",
    "energy = np.zeros((n,dim))\n",
    "\n",
    "for i in range(n):\n",
    "  H = H_perturbed(system_dim,lambda_list[i])\n",
    "  d, R = hermitian_eigensystem(H,tolerance)\n",
    "  energy[i] = d[0:dim]\n",
    "\n",
    "for i in range(dim):\n",
    "  plt.plot(lambda_list,energy[:,i],label=\"$E_{%s}$\" %i)\n",
    "  plt.title(\"Energies as a function of $\\lambda$\")\n",
    "  plt.xlabel(\"$\\lambda$ (unitless)\")\n",
    "  plt.ylabel(\"Energy (Joules)\")\n",
    "\n",
    "plt.legend()\n",
    "plt.show()"
   ]
  },
  {
   "cell_type": "markdown",
   "metadata": {
    "colab_type": "text",
    "id": "7AXvKYv0B1aI"
   },
   "source": [
    "From this plot we can see that as the value of $\\lambda$ increases the difference between sucsessive energy levels grows larger."
   ]
  },
  {
   "cell_type": "markdown",
   "metadata": {
    "colab_type": "text",
    "id": "m-yrs9tKAxUv"
   },
   "source": [
    "Additionally, we can also plot the spacings between adjacent energy levels $\\Delta E(\\lambda) = E_{n+1}(\\lambda) - E_{n}(\\lambda)$. This is done in the following code block."
   ]
  },
  {
   "cell_type": "code",
   "execution_count": null,
   "metadata": {
    "colab": {
     "base_uri": "https://localhost:8080/",
     "height": 303
    },
    "colab_type": "code",
    "id": "ypntb1PIKtX1",
    "outputId": "b84f4027-247e-4626-ce5e-2345e09a7d49"
   },
   "outputs": [
    {
     "data": {
      "image/png": "[encoded data removed]",
      "text/plain": [
       "<Figure size 432x288 with 1 Axes>"
      ]
     },
     "metadata": {
      "tags": []
     },
     "output_type": "display_data"
    }
   ],
   "source": [
    "system_dim = 15\n",
    "dim = 4\n",
    "tolerance = .01\n",
    "\n",
    "diff = np.zeros((dim-1,n))\n",
    "\n",
    "for i in range(0,dim-1):\n",
    "  upper_energy = energy[:,i+1]\n",
    "  lower_energy = energy[:,i]\n",
    "  diff[i] = upper_energy - lower_energy\n",
    "\n",
    "for i in range(0,dim-1):\n",
    "  plt.plot(lambda_list,diff[i], label=\"$E_{%s} - E_{%s}$\" %(i+1, i))\n",
    "  plt.title(\"Spacing between energy levels as a function of $\\lambda$\")\n",
    "  plt.xlabel(\"$\\lambda$ (unitless)\")\n",
    "  plt.ylabel(\"Energy (Joules)\")\n",
    "plt.legend()\n",
    "plt.show()"
   ]
  },
  {
   "cell_type": "markdown",
   "metadata": {
    "colab_type": "text",
    "id": "OWNKaTzQBZyQ"
   },
   "source": [
    "This plot again helps demonstate that as the value of $\\lambda$ increases so too does the spacings between energy levels."
   ]
  },
  {
   "cell_type": "markdown",
   "metadata": {
    "colab_type": "text",
    "id": "4Drv0UyaB5jm"
   },
   "source": [
    "4.) Now, we will check the convergence of our numerical algorithm with respect to the size of our basis, $N$. Again, we will be plotting the first four energy levels, but this time we will vary the size of the basis while keeping $\\lambda = 1$.  \n",
    "\n",
    "The below code block diagonalizes $\\hat{H}_{1}$ for $N \\in [4,40]$. The lower bound on $N$ must be at least the same as the number of energies we wish to calculate (as otherwise we wouldn't have enough eigenvalues). The upperbound is just a number that we feel is sufficently high to guarantee convergence of the method."
   ]
  },
  {
   "cell_type": "code",
   "execution_count": null,
   "metadata": {
    "colab": {
     "base_uri": "https://localhost:8080/",
     "height": 299
    },
    "colab_type": "code",
    "id": "H2FX7yr5MZNg",
    "outputId": "a5754783-84ef-4436-f117-ed39d2bc78cd"
   },
   "outputs": [
    {
     "data": {
      "image/png": "[encoded data removed]",
      "text/plain": [
       "<Figure size 432x288 with 1 Axes>"
      ]
     },
     "metadata": {
      "tags": []
     },
     "output_type": "display_data"
    }
   ],
   "source": [
    "system_dim = 40\n",
    "dim = 4\n",
    "tolerance = .01\n",
    "\n",
    "N_vals = np.arange(dim,system_dim+1)\n",
    "#E_vals = np.zeros(np.size(N_vals))\n",
    "E_vals = np.zeros((np.size(N_vals),dim))\n",
    "h_lambda = 1\n",
    "\n",
    "for i in range(np.size(N_vals)):\n",
    "  H = H_perturbed(N_vals[i],h_lambda)\n",
    "  d,R = hermitian_eigensystem(H,tolerance)\n",
    "  E_vals[i] = d[0:dim]\n",
    "\n",
    "#print(E_vals)\n",
    "\n",
    "for i in range(dim):\n",
    "  plt.plot(N_vals,E_vals[:,i],label=\"$E_{%s}$\" %i)\n",
    "  plt.title(\"Energy Levels as a function of basis size\")\n",
    "  plt.xlabel(\"Basis Size (N) (unitless)\")\n",
    "  plt.ylabel(\"Energy Joules)\")\n",
    "#plt.plot(N_vals,E_vals)\n",
    "plt.legend()\n",
    "plt.show()"
   ]
  },
  {
   "cell_type": "markdown",
   "metadata": {
    "colab_type": "text",
    "id": "Uw4rOmyRDaxS"
   },
   "source": [
    "From the plot we can see that for the first four energy levels the value of the respective energy converges. This is because as $N$ increases the values of the eigenvalues of $\\hat{H}_{1}$ become constant. All four energy levels appear to become stable around a basis size of $N = 15$ (the first three energy levels appear to converge at $N = 10$, but at $N = 15$ all four energies become convergant)."
   ]
  },
  {
   "cell_type": "markdown",
   "metadata": {
    "colab_type": "text",
    "id": "V0i3xOIQGoIQ"
   },
   "source": [
    "5.) Finally, we will plot the the first four wave functions for both the anharmonic oscillator and the unpeturbed harmonic oscillator."
   ]
  },
  {
   "cell_type": "markdown",
   "metadata": {
    "colab_type": "text",
    "id": "1ShWUff6MKzY"
   },
   "source": [
    "We can recall from our study of quantum mechanics that the wave functions of the harmonic oscillator are:\n",
    "\n",
    "$$\n",
    "  \\psi_{n}(x) = (2^{n}n!\\sqrt{\\pi})^{-1/2}e^{-x^{2}/2} h_{n}(x)\n",
    "$$\n",
    "\n",
    "where $h_{n}(x)$ is the $n^{th}$ Hermite polynomial. \n",
    "\n",
    "Since the wavefunctions of the harmonic oscillator form a basis for the space of the anharmonic oscillator we can represent the wave functions of the anharmonic oscillator as linear combinations of the $\\psi_{n}(x)$ listed above. The coefficents of the harmonic oscillator states in the linear combination are simply the components of eigenvectors of the anharmonic oscillator."
   ]
  },
  {
   "cell_type": "markdown",
   "metadata": {
    "colab_type": "text",
    "id": "1WlGsZ-bPlJP"
   },
   "source": [
    "The following code block plots the the anharmonic oscillator with $\\lambda = 1$ (solid line) and the unpeturbed harmonic oscillator (dashed line)."
   ]
  },
  {
   "cell_type": "code",
   "execution_count": null,
   "metadata": {
    "colab": {
     "base_uri": "https://localhost:8080/",
     "height": 456
    },
    "colab_type": "code",
    "id": "CbkSFvS8qVEG",
    "outputId": "c222127a-fdb7-4e13-dc82-e441455da3c6"
   },
   "outputs": [
    {
     "data": {
      "image/png": "[encoded data removed]",
      "text/plain": [
       "<Figure size 1728x432 with 4 Axes>"
      ]
     },
     "metadata": {
      "tags": []
     },
     "output_type": "display_data"
    }
   ],
   "source": [
    "system_dim = 10\n",
    "dim = 4\n",
    "tolerance = .01\n",
    "\n",
    "x_vals = np.linspace(-5,5,100)\n",
    "\n",
    "H_0 = H_perturbed(dim,0)\n",
    "d_0,R_0 = hermitian_eigensystem(H_0,tolerance)\n",
    "\n",
    "fig, axs = plt.subplots(1,dim,figsize=(6*dim,6))\n",
    "fig.suptitle(\"Wavefunctions of the Anharmonic Oscillator\",fontsize=18)\n",
    "A\n",
    "for i in range(dim):\n",
    "  psi_i = psi(evecs[:,i])(x_vals)\n",
    "  psi_0 = psi(R_0[:,i])(x_vals)\n",
    "\n",
    "  axs[i].plot(x_vals,psi_i)\n",
    "  axs[i].plot(x_vals,psi_0,linestyle=\"--\")\n",
    "\n",
    "  axs[i].set_title(\"$\\psi_{\" + str(i) + \"}$(x)\")\n",
    "  axs[i].set_xlabel(\"$x$ (m)\")\n",
    "  axs[i].set_ylabel(\"$\\psi(x)$\")"
   ]
  },
  {
   "cell_type": "markdown",
   "metadata": {
    "colab_type": "text",
    "id": "KRwLBfC5StT-"
   },
   "source": [
    "These plots show that (at least for the first four wave functions) the anharmonic and unpeturbed oscillator's wave functions share the same general shape/characteristics."
   ]
  }
 ],
 "metadata": {
  "colab": {
   "collapsed_sections": [],
   "name": "Project 2",
   "provenance": []
  },
  "kernelspec": {
   "display_name": "Python 3",
   "language": "python",
   "name": "python3"
  },
  "language_info": {
   "codemirror_mode": {
    "name": "ipython",
    "version": 3
   },
   "file_extension": ".py",
   "mimetype": "text/x-python",
   "name": "python",
   "nbconvert_exporter": "python",
   "pygments_lexer": "ipython3",
   "version": "3.7.6"
  }
 },
 "nbformat": 4,
 "nbformat_minor": 1
}
