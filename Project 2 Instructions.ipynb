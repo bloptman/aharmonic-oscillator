{
  "nbformat": 4,
  "nbformat_minor": 0,
  "metadata": {
    "kernelspec": {
      "display_name": "Python 3",
      "language": "python",
      "name": "python3"
    },
    "language_info": {
      "codemirror_mode": {
        "name": "ipython",
        "version": 3
      },
      "file_extension": ".py",
      "mimetype": "text/x-python",
      "name": "python",
      "nbconvert_exporter": "python",
      "pygments_lexer": "ipython3",
      "version": "3.6.6"
    },
    "colab": {
      "name": "Project 2 - Instructions",
      "provenance": []
    }
  },
  "cells": [
    {
      "cell_type": "markdown",
      "metadata": {
        "id": "j4NAiKaZx72R",
        "colab_type": "text"
      },
      "source": [
        "# Project 2: Numerical Linear Algebra and Quantum Mechanics\n",
        "\n",
        "Turn in a colab notebook as with Project 1.  The general format should be the same.  See, also, the grading rubric for projects."
      ]
    },
    {
      "cell_type": "markdown",
      "metadata": {
        "id": "jJAO3DIXx72h",
        "colab_type": "text"
      },
      "source": [
        "## Write a Python functions to numerically diagonalize an given hermitian matrix\n",
        "\n",
        "The function should be called\n",
        "\n",
        "    hermitian_eigensystem\n",
        "\n",
        "and should allow you to numerically solve for the eigenvalues and eigenvectors of a given hermitian matrix $H$ to within a desired tolerance.  The inputs of the function should be the matrix `H` and a float `tolerance` -- a small number the specifies the desired tolerance.\n",
        "\n",
        "We consider $H$ to be diagonal to the desired level of approximation when\n",
        "\n",
        "$$\n",
        "  \\mathrm{off}(H) \\leq \\mathrm{tolerance}\\cdot |H|\n",
        "$$\n",
        "\n",
        "where\n",
        "\n",
        "\\begin{align}\n",
        "    \\mathrm{off}(H) = \\sqrt{\\sum_{i\\neq j}|H_{ij}|^2}, \\qquad |H| = \\sqrt{\\sum_{i,j = 1}^n |H_{ij}|^2}.\n",
        "\\end{align}\n",
        "\n",
        "It is recommended that you write the `hermitian_eigensystem` function using a divide and conquer approach: reduce the diagonalization tasks into multiple relevant sub-tasks, and combine your implementations of these sub-tasks into the desired function.  The eigenvalues should be output in non-decreasing order, and the corresponding eigenvectors should be listed in the corresponding order.  At the very end, once you have run your own code tests, you are encouraged to use `scipy.linalg.eig` to check your method, but do not secretly attempt to use this in your own code!\n",
        "\n",
        "[Array slicing](https://scipy-lectures.org/intro/numpy/array_object.html#indexing-and-slicing) may be helpful to write compact code for this project.\n",
        "\n",
        "One way to consider dividing the code into sub-parts is by writing the following functions (you don't have to do it this way if you'd prefer to figure out your own implementation).\n"
      ]
    },
    {
      "cell_type": "code",
      "metadata": {
        "id": "AwdCsFPpViyX",
        "colab_type": "code",
        "colab": {}
      },
      "source": [
        "#difficulty: ★★★\n",
        "def jacobi_rotation(A, j, k):\n",
        "    #Args:\n",
        "        # A (np.ndarray): n by n real symmetric matrix\n",
        "        # j (int): column parameter.\n",
        "        # k (int): row parameter.\n",
        "\n",
        "    #Returns:\n",
        "        # A (np.ndarray): n by n real symmetric matrix, where the A[j,k] and A[k,j] element is zero\n",
        "        # J (np.ndarray): n by n orthogonal matrix, the jacobi_rotation matrix\n",
        "\n",
        "    \n",
        "    return A, J\n",
        "\n",
        "#difficulty: ★\n",
        "def off(A):\n",
        "    # see above where the \"off\" function is defined\n",
        "    \n",
        "    return output\n",
        "\n",
        "#difficulty: ★★★\n",
        "def real_eigen(A, tolerance):\n",
        "    #Args:\n",
        "        # A (np.ndarray): n by n real symmetric matrix\n",
        "        # tolerance (float): the relative precision\n",
        "    #Returns:\n",
        "        # d (np.ndarray): n by 1 vector, d[i] is the i-th eigenvalue\n",
        "        # R (np.ndarray): n by n orthogonal matrix, R[:,i] is the i-th eigenvector\n",
        "        \n",
        "    # call jacobi_rotation(A, j, k) iteratively\n",
        "    # call off and norm to check if we can stop the iteration\n",
        "    # off (you write it)\n",
        "    # norm https://docs.scipy.org/doc/numpy-1.13.0/reference/generated/numpy.linalg.norm.html\n",
        "    \n",
        "        \n",
        "    return d, R\n",
        "\n",
        "#difficulty: ★★\n",
        "def complex_eigen(H, tolerance):\n",
        "    #Args:\n",
        "        # A (np.ndarray): n by n real hermitian matrix\n",
        "        # tolerance (float): the relative precision\n",
        "    #Returns:\n",
        "        # d (np.ndarray): n by 1 vector, d[i] is the i-th eigenvalue\n",
        "        # U (np.ndarray): n by n unitary matrix, U[i,:] is the i-th eigenvector\n",
        "        \n",
        "    #(1) split H=S+iA to real and imaginary parts\n",
        "    #(2) construct a 2n by 2n real matrix B\n",
        "    #(3) call dd, R = real_eigen(B,tolerance)\n",
        "    #(4) organize the output of dd, R  to get d and U\n",
        "        \n",
        "    return d, U\n",
        "\n",
        "#difficulty: ★\n",
        "def hermitian_eigensystem(H,tolerance):\n",
        "    \n",
        "    # call complex_eigen(H,tolerance)\n",
        "    # rearrange d and U, so that they are in the non-decreasing order of eigenvalues\n",
        "    return d, U"
      ],
      "execution_count": null,
      "outputs": []
    },
    {
      "cell_type": "markdown",
      "metadata": {
        "id": "uhS-jJ60x72n",
        "colab_type": "text"
      },
      "source": [
        "## Write code tests\n",
        "\n",
        "This code is supposed to validate the eigensystem function you write.  It should include *at least* the following:\n",
        "\n",
        "Tests showing that for hermitian matrices of sizes up to 30-by-30 with known eigenvalues, the function `hermitian eigensystem` gives correct eigenvalues and eigenvectors.  To generate test cases, you'll need to think about how you can generate hermitian matrices with known eigenvalues.  Hint: what happens when you apply a similarity transformation by a unitary matrix to a diagonal matrix?  You may also find it useful to look into the function 'scipy.stats.unitary_group' which allows one to generate random unitary matrices."
      ]
    },
    {
      "cell_type": "markdown",
      "metadata": {
        "id": "7DtE9GlRx72r",
        "colab_type": "text"
      },
      "source": [
        "## Analysis of the quantum anharmonic oscillator\n",
        "\n",
        "This notebook should use your dynamics module to simulate the dynamics of the two-body problem.\n",
        "\n",
        "This notebook should use your eigensystem module to determine the first few eigenvalues and corresponding eigenvectors of the anharmonic oscillator hamiltonian.  In particular:\n",
        "        \n",
        "1. Show that the operators $\\hat x^2$ and $\\hat x^4$ have the following matrix elements in the harmonic oscillator basis:\n",
        "\\begin{align}\n",
        "    \\langle n|\\hat x^2|m\\rangle \n",
        "    &=(n+1/2)\\delta_{nm} + \\tfrac{1}{2}\\sqrt{(n+1)(n+2)}\\,\\delta_{n,m-2} + \n",
        "\\tfrac{1}{2}\\sqrt{(n-1)n\\,}\\,\\delta_{n,m+2} \\\\\n",
        "    \\langle n|\\hat x^4|m\\rangle \n",
        "    &= \\tfrac{1}{4}\\!\\left(6n^2 + 6n + 3\\right)\\!\\delta_{nm}\n",
        "+ \\sqrt{(n+1)(n+2)}\\left(n+\\tfrac{3}{2}\\right)\\!\\delta_{n,m-2}\\;+ \\nonumber\\\\\n",
        "& + \\sqrt{(n-1)n\\,}\\left(n-\\tfrac{1}{2}\\right)\\!\\delta_{n,m+2} +\n",
        "\\tfrac{1}{4}\\sqrt{(n+1)(n+2)(n+3)(n+4)}\\,\\delta_{n,m-4}\\;+ \\nonumber\\\\\n",
        "& + \\tfrac{1}{4}\\sqrt{(n-3)(n-2)(n-1)n\\,}\\,\\delta_{n,m+4}.\n",
        "\\end{align}\n",
        "1. Approximately solve the anharmonic oscillator eigenvalue problem written in the harmonic oscillator basis for at least the first four energy levels. Note that the function `hermval` from NumPy offers an easy solution to compute the eigenfunctions $\\psi_n(x)$ from the eigenvectors of the matrix representation of the hamiltonian. \n",
        "1. Plot the first four energy \n",
        "levels $E_n(\\lambda)$ versus $\\lambda$ over the range \n",
        "$0 \\leq \\lambda \\leq 1$. Plot also the spacings between the \n",
        "levels $\\Delta E(\\lambda) = E_{n+1}(\\lambda) - E_n(\\lambda)$. Make sure to use a basis \n",
        "size $N$ sufficiently larger than the desired number of lowest eigenvalues to ensure convergence of the eigensystem algorithm.\n",
        "1. Check the convergence of the method with respect to the basis size $N$ by plotting one \n",
        "of the lowest (or more) energy eigenvalues $E_n(N)$ for $\\lambda = 1$ versus the basis size $N$. \n",
        "Alternatively, to demonstrate the convergence more clearly, you can also plot the differences between \n",
        "two consecutive estimates $\\epsilon_n = E_n(N) - E_n(N\\!+\\!2)$ versus $N$.\n",
        "1. Plot and compare the first four eigenfunctions $\\psi_n(x)$ for the harmonic oscillator with $\\lambda=0$ to \n",
        "the eigenfunctions for the anharmonic oscillator with $\\lambda=1$."
      ]
    }
  ]
}